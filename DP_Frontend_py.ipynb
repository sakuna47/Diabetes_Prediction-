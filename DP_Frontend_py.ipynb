{
  "nbformat": 4,
  "nbformat_minor": 0,
  "metadata": {
    "colab": {
      "provenance": [],
      "authorship_tag": "ABX9TyPspyOImDS5d28JuDItyzne",
      "include_colab_link": true
    },
    "kernelspec": {
      "name": "python3",
      "display_name": "Python 3"
    },
    "language_info": {
      "name": "python"
    }
  },
  "cells": [
    {
      "cell_type": "markdown",
      "metadata": {
        "id": "view-in-github",
        "colab_type": "text"
      },
      "source": [
        "<a href=\"https://colab.research.google.com/github/sakuna47/Diabetes_Prediction-/blob/Frontend/DP_Frontend_py.ipynb\" target=\"_parent\"><img src=\"https://colab.research.google.com/assets/colab-badge.svg\" alt=\"Open In Colab\"/></a>"
      ]
    },
    {
      "cell_type": "code",
      "execution_count": 1,
      "metadata": {
        "colab": {
          "base_uri": "https://localhost:8080/",
          "height": 383
        },
        "id": "GF2fa5RqG83N",
        "outputId": "cff58073-ce32-48b9-e9c2-9c5ca97ce53f"
      },
      "outputs": [
        {
          "output_type": "error",
          "ename": "ModuleNotFoundError",
          "evalue": "No module named 'streamlit'",
          "traceback": [
            "\u001b[0;31m---------------------------------------------------------------------------\u001b[0m",
            "\u001b[0;31mModuleNotFoundError\u001b[0m                       Traceback (most recent call last)",
            "\u001b[0;32m<ipython-input-1-520b1afc3326>\u001b[0m in \u001b[0;36m<cell line: 0>\u001b[0;34m()\u001b[0m\n\u001b[0;32m----> 1\u001b[0;31m \u001b[0;32mimport\u001b[0m \u001b[0mstreamlit\u001b[0m \u001b[0;32mas\u001b[0m \u001b[0mst\u001b[0m\u001b[0;34m\u001b[0m\u001b[0;34m\u001b[0m\u001b[0m\n\u001b[0m\u001b[1;32m      2\u001b[0m \u001b[0;32mimport\u001b[0m \u001b[0mpickle\u001b[0m\u001b[0;34m\u001b[0m\u001b[0;34m\u001b[0m\u001b[0m\n\u001b[1;32m      3\u001b[0m \u001b[0;32mimport\u001b[0m \u001b[0mnumpy\u001b[0m \u001b[0;32mas\u001b[0m \u001b[0mnp\u001b[0m\u001b[0;34m\u001b[0m\u001b[0;34m\u001b[0m\u001b[0m\n\u001b[1;32m      4\u001b[0m \u001b[0;34m\u001b[0m\u001b[0m\n\u001b[1;32m      5\u001b[0m \u001b[0;31m# Load the model and scaler\u001b[0m\u001b[0;34m\u001b[0m\u001b[0;34m\u001b[0m\u001b[0m\n",
            "\u001b[0;31mModuleNotFoundError\u001b[0m: No module named 'streamlit'",
            "",
            "\u001b[0;31m---------------------------------------------------------------------------\u001b[0;32m\nNOTE: If your import is failing due to a missing package, you can\nmanually install dependencies using either !pip or !apt.\n\nTo view examples of installing some common dependencies, click the\n\"Open Examples\" button below.\n\u001b[0;31m---------------------------------------------------------------------------\u001b[0m\n"
          ],
          "errorDetails": {
            "actions": [
              {
                "action": "open_url",
                "actionText": "Open Examples",
                "url": "/notebooks/snippets/importing_libraries.ipynb"
              }
            ]
          }
        }
      ],
      "source": [
        "import streamlit as st\n",
        "import pickle\n",
        "import numpy as np\n",
        "\n",
        "# Load the model and scaler with error handling\n",
        "try:\n",
        "    with open(\"diabetes_model.pkl\", \"rb\") as f:\n",
        "        model = pickle.load(f)\n",
        "    with open(\"scaler.pkl\", \"rb\") as f:\n",
        "        scaler = pickle.load(f)\n",
        "except Exception as e:\n",
        "    st.error(f\"Error loading model or scaler: {e}\")\n",
        "    st.stop()\n",
        "\n",
        "# Streamlit app title and description\n",
        "st.title(\"Diabetes Prediction Web App\")\n",
        "st.write(\"Enter health details to predict the likelihood of diabetes.\")\n",
        "\n",
        "# Input fields in the sidebar\n",
        "st.sidebar.header(\"Enter Patient Details\")\n",
        "pregnancies = st.sidebar.number_input(\"Number of Pregnancies\", min_value=0, max_value=20, value=1)\n",
        "glucose = st.sidebar.number_input(\"Glucose Level\", min_value=0, max_value=200, value=100)\n",
        "blood_pressure = st.sidebar.number_input(\"Blood Pressure (mm Hg)\", min_value=0, max_value=150, value=70)\n",
        "skin_thickness = st.sidebar.number_input(\"Skin Thickness (mm)\", min_value=0, max_value=100, value=20)\n",
        "insulin = st.sidebar.number_input(\"Insulin Level (mu U/ml)\", min_value=0, max_value=900, value=80)\n",
        "bmi = st.sidebar.number_input(\"BMI\", min_value=0.0, max_value=70.0, value=25.0)\n",
        "diabetes_pedigree = st.sidebar.number_input(\"Diabetes Pedigree Function\", min_value=0.0, max_value=3.0, value=0.5)\n",
        "age = st.sidebar.number_input(\"Age\", min_value=0, max_value=120, value=30)\n",
        "\n",
        "# Predict button\n",
        "if st.sidebar.button(\"Predict\"):\n",
        "    # Prepare input array\n",
        "    input_data = np.array([[pregnancies, glucose, blood_pressure, skin_thickness, insulin, bmi, diabetes_pedigree, age]])\n",
        "\n",
        "    # Scale the input data\n",
        "    try:\n",
        "        input_data_scaled = scaler.transform(input_data)\n",
        "    except Exception as e:\n",
        "        st.error(f\"Error scaling input: {e}\")\n",
        "        st.stop()\n",
        "\n",
        "    # Make prediction\n",
        "    try:\n",
        "        prediction = model.predict(input_data_scaled)\n",
        "        probability = model.predict_proba(input_data_scaled)[0][1] * 100  # Assuming model supports predict_proba()\n",
        "    except Exception as e:\n",
        "        st.error(f\"Error making prediction: {e}\")\n",
        "        st.stop()\n",
        "\n",
        "    # Display results\n",
        "    st.subheader(\"Prediction Result\")\n",
        "    if prediction[0] == 1:\n",
        "        st.error(f\"The model predicts diabetes with a probability of {probability:.2f}%.\")\n",
        "    else:\n",
        "        st.success(f\"The model predicts no diabetes with a probability of {100 - probability:.2f}%.\")\n",
        "\n",
        "# Footer\n",
        "st.markdown(\"### Built with ❤️ using Streamlit\")\n"
      ]
    }
  ]
}